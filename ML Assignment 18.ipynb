{
 "cells": [
  {
   "cell_type": "code",
   "execution_count": null,
   "id": "0cbe2f5a-435e-4623-956a-be34ec59881e",
   "metadata": {},
   "outputs": [],
   "source": [
    "#1. What is the difference between supervised and unsupervised learning? Give some examples to illustrate your point ?\n",
    "\n",
    "Ans: The main distinction between the two approaches is the use of labeled datasets. To put it simply, supervised learning uses labeled \n",
    "input and output data, while an unsupervised learning algorithm does not. Unsupervised learning models, in contrast, work on their own to\n",
    "discover the inherent structure of unlabeled data.\n",
    "\n",
    "In Supervised learning, you train the machine using data which is well “labeled.” Unsupervised learning is a machine learning technique, \n",
    "where you do not need to supervise the model. For example, Baby can identify other dogs based on past supervised learning."
   ]
  },
  {
   "cell_type": "code",
   "execution_count": null,
   "id": "a08fb0fc-b0b3-4435-89f4-c337f4414911",
   "metadata": {},
   "outputs": [],
   "source": [
    "#2. Mention a few unsupervised learning applications ?\n",
    "\n",
    "Ans: The main applications of unsupervised learning include clustering, visualization, dimensionality reduction, finding association rules,\n",
    "and anomaly detection."
   ]
  },
  {
   "cell_type": "code",
   "execution_count": null,
   "id": "487b4d84-4095-4db9-a38a-eb8aa8097120",
   "metadata": {},
   "outputs": [],
   "source": [
    "#3. What are the three main types of clustering methods? Briefly describe the characteristics of each ?\n",
    "\n",
    "Ans: The various types of clustering are:\n",
    "\n",
    "*Connectivity-based Clustering (Hierarchical clustering): Hierarchical Clustering is a method of unsupervised machine learning clustering\n",
    "where it begins with a pre-defined top to bottom hierarchy of clusters. It then proceeds to perform a decomposition of the data objects \n",
    "based on this hierarchy, hence obtaining the clusters. This method follows two approaches based on the direction of progress, i.e., whether \n",
    "it is the top-down or bottom-up flow of creating clusters.\n",
    "\n",
    "*Centroids-based Clustering (Partitioning methods): Centroid based clustering is considered as one of the most simplest clustering \n",
    "algorithms, yet the most effective way of creating clusters and assigning data points to it. The intuition behind centroid based clustering \n",
    "is that a cluster is characterized and represented by a central vector and data points that are in close proximity to these vectors are \n",
    "assigned to the respective clusters.\n",
    "\n",
    "*Density-based Clustering (Model-based methods): If one looks into the previous two methods that we discussed, one would observe that both \n",
    "hierarchical and centroid based algorithms are dependent on a distance (similarity/proximity) metric. The very definition of a cluster is\n",
    "based on this metric. Density-based clustering methods take density into consideration instead of distances. Clusters are considered as the \n",
    "densest region in a data space, which is separated by regions of lower object density and it is defined as a maximal-set of connected points.\n",
    "\n",
    "*Distribution-based Clustering: Until now, the clustering techniques as we know are based around either proximity (similarity/distance) or\n",
    "composition (density). There is a family of clustering algorithms that take a totally different metric into consideration – probability.\n",
    "Distribution-based clustering creates and groups data points based on their likely hood of belonging to the same probability \n",
    "distribution (Gaussian, Binomial etc.) in the data.\n",
    "\n",
    "*Fuzzy Clustering: The general idea about clustering revolves around assigning data points to mutually exclusive clusters, meaning, a data\n",
    "point always resides uniquely inside a cluster and it cannot belong to more than one cluster. Fuzzy clustering methods change this paradigm \n",
    "by assigning a data-point to multiple clusters with a quantified degree of belongingness metric. The data-points that are in proximity to \n",
    "the center of a cluster, may also belong in the cluster that is at a higher degree than points in the edge of a cluster. The possibility of\n",
    "which an element belongs to a given cluster is measured by membership coefficient that vary from 0 to 1."
   ]
  },
  {
   "cell_type": "code",
   "execution_count": null,
   "id": "de25fb5a-82f5-4c83-bac1-fe20c21115e8",
   "metadata": {},
   "outputs": [],
   "source": [
    "#4. Explain how the k-means algorithm determines the consistency of clustering ?\n",
    "\n",
    "Ans: Calculate the Within-Cluster-Sum of Squared Errors (WSS) for different values of k, and choose the k for which WSS becomes first \n",
    "starts to diminish. In the plot of WSS-versus-k, this is visible as an elbow. Within-Cluster-Sum of Squared Errors sounds a bit complex."
   ]
  },
  {
   "cell_type": "code",
   "execution_count": null,
   "id": "daaa1000-bff3-4c45-8b17-7f42a43adf37",
   "metadata": {},
   "outputs": [],
   "source": [
    "#5. With a simple illustration, explain the key difference between the k-means and k-medoids algorithms ?\n",
    "\n",
    "Ans: K-means attempts to minimize the total squared error, while k-medoids minimizes the sum of dissimilarities between points labeled to\n",
    "be in a cluster and a point designated as the center of that cluster. In contrast to the k -means algorithm, k -medoids chooses datapoints\n",
    "as centers ( medoids or exemplars)."
   ]
  },
  {
   "cell_type": "code",
   "execution_count": null,
   "id": "de0e9923-63bb-426b-b226-ce36278df89c",
   "metadata": {},
   "outputs": [],
   "source": [
    "#6. What is a dendrogram, and how does it work? Explain how to do it ?\n",
    "\n",
    "Ans: A dendrogram is a diagram that shows the attribute distances between each pair of sequentially merged classes After each merging, \n",
    "the distances between all pairs of classes are updated. The distances at which the signatures of classes are merged are used to construct\n",
    "a dendrogram."
   ]
  },
  {
   "cell_type": "code",
   "execution_count": null,
   "id": "1b37257b-1ee6-486b-9205-deb8af443879",
   "metadata": {},
   "outputs": [],
   "source": [
    "#7. What exactly is SSE? What role does it play in the k-means algorithm ?\n",
    "\n",
    "Ans: I am going to refer to it as SSE, which stands for Sum of Squared Errors. The regression line is the line made using the function we \n",
    "defined above. To get the SSE we calculate the distance for each of the data points from the regression line then square the it, then we \n",
    "add to the sum.\n",
    "\n",
    "The SSE is defined as the sum of the squared Euclidean distances of each point to its closest centroid. Since this is a measure of error,\n",
    "the objective of k-means is to try to minimize this value. The purpose of this figure is to show that the initialization of the centroids \n",
    "is an important step."
   ]
  },
  {
   "cell_type": "code",
   "execution_count": null,
   "id": "f3b8bfbd-0185-4e5f-aa2e-cd0b52c2e856",
   "metadata": {},
   "outputs": [],
   "source": [
    "#8. With a step-by-step algorithm, explain the k-means procedure ?\n",
    "\n",
    "Ans: k-means is one of the simplest unsupervised learning algorithms that solve the well known clustering problem. The procedure follows a \n",
    "simple and easy way to classify a given data set through a certain number of clusters (assume k clusters) fixed apriori. The main idea is \n",
    "to define k centers, one for each cluster.\n",
    "\n",
    "*Step 1: Choose the number of clusters k.\n",
    "*Step 2: Select k random points from the data as centroids.\n",
    "*Step 3: Assign all the points to the closest cluster centroid.\n",
    "*Step 4: Recompute the centroids of newly formed clusters.\n",
    "*Step 5: Repeat steps 3 and 4."
   ]
  },
  {
   "cell_type": "code",
   "execution_count": null,
   "id": "b19466ef-2f4a-4a8a-bda4-a3d274184776",
   "metadata": {},
   "outputs": [],
   "source": [
    "#9. In the sense of hierarchical clustering, define the terms single link and complete link ?\n",
    "\n",
    "Ans: In single-link (or single linkage) hierarchical clustering, we merge in each step the two clusters whose two closest members have \n",
    "the smallest distance (or: the two clusters with the smallest minimum pairwise distance). Complete-link clustering can also be described \n",
    "using the concept of clique."
   ]
  },
  {
   "cell_type": "code",
   "execution_count": null,
   "id": "ecf4f3fb-7ee7-4976-aa4a-31f838714561",
   "metadata": {},
   "outputs": [],
   "source": [
    "#10. How does the apriori concept aid in the reduction of measurement overhead in a business basket analysis? Give an example to demonstrate your point ?\n",
    "\n",
    "Ans: Apriori algorithm assumes that any subset of a frequent itemset must be frequent. Its the algorithm behind Market Basket Analysis. \n",
    "So, according to the principle of Apriori, if {Grapes, Apple, Mango} is frequent, then {Grapes,Mango} must also be frequent. Here is a \n",
    "dataset consisting of six transactions.\""
   ]
  }
 ],
 "metadata": {
  "kernelspec": {
   "display_name": "Python 3 (ipykernel)",
   "language": "python",
   "name": "python3"
  },
  "language_info": {
   "codemirror_mode": {
    "name": "ipython",
    "version": 3
   },
   "file_extension": ".py",
   "mimetype": "text/x-python",
   "name": "python",
   "nbconvert_exporter": "python",
   "pygments_lexer": "ipython3",
   "version": "3.10.6"
  }
 },
 "nbformat": 4,
 "nbformat_minor": 5
}
